{
 "cells": [
  {
   "cell_type": "code",
   "execution_count": 72,
   "metadata": {},
   "outputs": [],
   "source": [
    "from pylab import *\n",
    "import pandas as pd\n",
    "import numpy as np\n",
    "from os import listdir\n",
    "from sklearn.svm import LinearSVC\n",
    "import cv2\n",
    "from PIL import Image\n",
    "from sklearn import svm\n",
    "import imagehash\n",
    "from scipy.cluster.vq import *\n",
    "from sklearn.preprocessing import StandardScaler\n",
    "from sklearn import tree\n",
    "from sklearn import linear_model"
   ]
  },
  {
   "cell_type": "code",
   "execution_count": 73,
   "metadata": {},
   "outputs": [],
   "source": [
    "genuine_image_filenames = listdir(\"data/genuine\")\n",
    "forged_image_filenames = listdir(\"data/forged\")\n",
    "\n",
    "genuine_image_paths = \"data/genuine\"\n",
    "forged_image_paths = \"data/forged\"\n"
   ]
  },
  {
   "cell_type": "code",
   "execution_count": 74,
   "metadata": {},
   "outputs": [],
   "source": [
    "genuine_image_features = [[] for x in range(12)]\n",
    "forged_image_features = [[] for x in range(12)]"
   ]
  },
  {
   "cell_type": "code",
   "execution_count": 75,
   "metadata": {},
   "outputs": [],
   "source": [
    "\n",
    "\n",
    "for name in genuine_image_filenames:\n",
    "    signature_id = int(name.split('_')[0][-3:])\n",
    "    genuine_image_features[signature_id - 1].append({\"name\": name})\n",
    "    "
   ]
  },
  {
   "cell_type": "code",
   "execution_count": 76,
   "metadata": {},
   "outputs": [],
   "source": [
    "for name in forged_image_filenames:\n",
    "    signature_id = int(name.split('_')[0][-3:])\n",
    "    forged_image_features[signature_id - 1].append({\"name\": name})\n"
   ]
  },
  {
   "cell_type": "code",
   "execution_count": 77,
   "metadata": {},
   "outputs": [],
   "source": [
    "def preprocess_image(path, display=False):\n",
    "    raw_image = cv2.imread(path)\n",
    "    bw_image = cv2.cvtColor(raw_image, cv2.COLOR_BGR2GRAY)\n",
    "    bw_image = 255 - bw_image\n",
    "\n",
    "    if display:\n",
    "        cv2.imshow(\"RGB to Gray\", bw_image)\n",
    "        cv2.waitKey()\n",
    "\n",
    "    _, threshold_image = cv2.threshold(bw_image, 30, 255, 0)\n",
    "\n",
    "    if display:\n",
    "        cv2.imshow(\"Threshold\", threshold_image)\n",
    "        cv2.waitKey()\n",
    "\n",
    "    return threshold_image\n"
   ]
  },
  {
   "cell_type": "code",
   "execution_count": 78,
   "metadata": {},
   "outputs": [],
   "source": [
    "def get_contour_features(im, display=False):\n",
    "    \n",
    "    '''\n",
    "    :param im: input preprocessed image\n",
    "    :param display: flag - if true display images\n",
    "    :return:aspect ratio of bounding rectangle, area of : bounding rectangle, contours and convex hull\n",
    "    '''\n",
    "\n",
    "    rect = cv2.minAreaRect(cv2.findNonZero(im))\n",
    "    box = cv2.boxPoints(rect)\n",
    "    box = np.int0(box)\n",
    "\n",
    "    w = np.linalg.norm(box[0] - box[1])\n",
    "    h = np.linalg.norm(box[1] - box[2])\n",
    "\n",
    "    aspect_ratio = max(w, h) / min(w, h)\n",
    "    bounding_rect_area = w * h\n",
    "\n",
    "    if display:\n",
    "        image1 = cv2.drawContours(im.copy(), [box], 0, (120, 120, 120), 2)\n",
    "        cv2.imshow(\"a\", cv2.resize(image1, (0, 0), fx=2.5, fy=2.5))\n",
    "        cv2.waitKey()\n",
    "\n",
    "    hull = cv2.convexHull(cv2.findNonZero(im))\n",
    "\n",
    "    if display:\n",
    "        convex_hull_image = cv2.drawContours(im.copy(), [hull], 0, (120, 120, 120), 2)\n",
    "        cv2.imshow(\"a\", cv2.resize(convex_hull_image, (0, 0), fx=2.5, fy=2.5))\n",
    "        cv2.waitKey()\n",
    "\n",
    "    im2, contours, hierarchy = cv2.findContours(im.copy(), cv2.RETR_TREE, cv2.CHAIN_APPROX_SIMPLE)\n",
    "\n",
    "    if display:\n",
    "        contour_image = cv2.drawContours(im.copy(), contours, -1, (120, 120, 120), 3)\n",
    "        cv2.imshow(\"a\", cv2.resize(contour_image, (0, 0), fx=2.5, fy=2.5))\n",
    "        cv2.waitKey()\n",
    "\n",
    "    contour_area = 0\n",
    "    for cnt in contours:\n",
    "        contour_area += cv2.contourArea(cnt)\n",
    "    hull_area = cv2.contourArea(hull)\n",
    "\n",
    "    return aspect_ratio, bounding_rect_area, hull_area, contour_area\n"
   ]
  },
  {
   "cell_type": "code",
   "execution_count": 79,
   "metadata": {},
   "outputs": [],
   "source": [
    "des_list = []\n",
    "\n",
    "def sift(im, path, display=False):\n",
    "    raw_image = cv2.imread(path)\n",
    "    sift = cv2.xfeatures2d.SIFT_create()\n",
    "    kp, des = sift.detectAndCompute(im, None)\n",
    "\n",
    "    if display:\n",
    "        cv2.drawKeypoints(im, kp, raw_image)\n",
    "        cv2.imshow('sift_keypoints.jpg', cv2.resize(raw_image, (0, 0), fx=3, fy=3))\n",
    "        cv2.waitKey()\n",
    "\n",
    "    return (path, des)"
   ]
  },
  {
   "cell_type": "code",
   "execution_count": 80,
   "metadata": {},
   "outputs": [],
   "source": [
    "pd.set_option('display.max_columns', None)  \n",
    "pd.set_option('display.width', 2000)"
   ]
  },
  {
   "cell_type": "code",
   "execution_count": 81,
   "metadata": {},
   "outputs": [],
   "source": [
    "cor = 0\n",
    "wrong = 0\n",
    "\n",
    "im_contour_features = []\n"
   ]
  },
  {
   "cell_type": "code",
   "execution_count": 82,
   "metadata": {},
   "outputs": [],
   "source": [
    "for i in range(12):\n",
    "    des_list = []\n",
    "    for im in genuine_image_features[i]:\n",
    "        image_path = genuine_image_paths + \"/\" + im['name']\n",
    "        preprocessed_image = preprocess_image(image_path)\n",
    "        hash = imagehash.phash(Image.open(image_path))\n",
    "\n",
    "        aspect_ratio, bounding_rect_area, convex_hull_area, contours_area = \\\n",
    "            get_contour_features(preprocessed_image.copy(), display=False)\n",
    "\n",
    "        hash = int(str(hash), 16)\n",
    "        im['hash'] = hash\n",
    "        im['aspect_ratio'] = aspect_ratio\n",
    "        im['hull_area/bounding_area'] = convex_hull_area / bounding_rect_area\n",
    "        im['contour_area/bounding_area'] = contours_area / bounding_rect_area\n",
    "\n",
    "        im_contour_features.append([hash, aspect_ratio, convex_hull_area / bounding_rect_area, contours_area / bounding_rect_area])\n",
    "\n",
    "        des_list.append(sift(preprocessed_image, image_path))\n",
    "\n",
    "\n",
    "    for im in forged_image_features[i]:\n",
    "        image_path = forged_image_paths + \"/\" + im['name']\n",
    "        preprocessed_image = preprocess_image(image_path)\n",
    "        hash = imagehash.phash(Image.open(image_path))\n",
    "\n",
    "        aspect_ratio, bounding_rect_area, convex_hull_area, contours_area = \\\n",
    "            get_contour_features(preprocessed_image.copy(), display=False)\n",
    "\n",
    "        hash = int(str(hash), 16)\n",
    "        im['hash'] = hash\n",
    "        im['aspect_ratio'] = aspect_ratio\n",
    "        im['hull_area/bounding_area'] = convex_hull_area / bounding_rect_area\n",
    "        im['contour_area/bounding_area'] = contours_area / bounding_rect_area\n",
    "\n",
    "        im_contour_features.append([hash, aspect_ratio, convex_hull_area / bounding_rect_area, contours_area / bounding_rect_area])\n",
    "\n",
    "        des_list.append(sift(preprocessed_image, image_path))\n",
    "\n",
    "    descriptors = des_list[0][1]\n",
    "    \n",
    "    for image_path, descriptor in des_list[1:]:\n",
    "        descriptors = np.vstack((descriptors, descriptor))\n",
    "    k = 200\n",
    "    voc, variance = kmeans(descriptors, k, 1)\n",
    "     \n",
    "    # Calculate the histogram of features\n",
    "    im_features = np.zeros((len(genuine_image_features[i]) + len(forged_image_features[i]), k+4), \"float32\")\n",
    "    for i in range(len(genuine_image_features[i]) + len(forged_image_features[i])):\n",
    "        words, distance = vq(des_list[i][1], voc)\n",
    "        for w in words:\n",
    "            im_features[i][w] += 1\n",
    "\n",
    "        for j in range(4):\n",
    "            im_features[i][k+j] = im_contour_features[i][j]\n",
    "\n",
    "    #nbr_occurences = np.sum((im_features > 0) * 1, axis=0)\n",
    "    #idf = np.array(np.log((1.0 * len(image_paths) + 1) / (1.0 * nbr_occurences + 1)), 'float32')\n",
    "\n",
    "    # Scaling the words\n",
    "    stdSlr = StandardScaler().fit(im_features)\n",
    "    im_features = stdSlr.transform(im_features)\n",
    "\n",
    "    train_genuine_features, test_genuine_features = im_features[0:3], im_features[3:5]\n",
    "\n",
    "    train_forged_features, test_forged_features = im_features[5:8], im_features[8:10]\n",
    "\n",
    "    #clf = linear_model.LogisticRegression(C=1e5)\n",
    "\n",
    "    clf = LinearSVC()\n",
    "    #clf = tree.DecisionTreeClassifier()\n",
    "    #clf = tree.DecisionTreeRegressor()\n",
    "    #clf = svm.SVC()\n",
    "    clf.fit(np.concatenate((train_forged_features,train_genuine_features)), np.array([1 for x in range(len(train_forged_features))] + [2 for x in range(len(train_genuine_features))]))\n",
    "    #print(\"2\" + str(clf.predict(test_genuine_features)))\n",
    "    genuine_res = clf.predict(test_genuine_features)\n",
    "\n",
    "    for res in genuine_res:\n",
    "        if int(res) == 2:\n",
    "            cor += 1\n",
    "        else:\n",
    "            wrong += 1\n",
    "\n",
    "    #print(\"1\" + str(clf.predict(test_forged_features)))\n",
    "    forged_res = clf.predict(test_forged_features)\n",
    "\n",
    "    for res in forged_res:\n",
    "        if int(res) == 1:\n",
    "            cor += 1\n",
    "        else:\n",
    "            wrong += 1\n"
   ]
  },
  {
   "cell_type": "code",
   "execution_count": 83,
   "metadata": {},
   "outputs": [
    {
     "name": "stdout",
     "output_type": "stream",
     "text": [
      "0.9166666666666666\n"
     ]
    }
   ],
   "source": [
    "print(float(cor)/(cor+wrong))"
   ]
  },
  {
   "cell_type": "code",
   "execution_count": null,
   "metadata": {},
   "outputs": [],
   "source": []
  }
 ],
 "metadata": {
  "kernelspec": {
   "display_name": "Python 3",
   "language": "python",
   "name": "python3"
  },
  "language_info": {
   "codemirror_mode": {
    "name": "ipython",
    "version": 3
   },
   "file_extension": ".py",
   "mimetype": "text/x-python",
   "name": "python",
   "nbconvert_exporter": "python",
   "pygments_lexer": "ipython3",
   "version": "3.7.0"
  }
 },
 "nbformat": 4,
 "nbformat_minor": 2
}
